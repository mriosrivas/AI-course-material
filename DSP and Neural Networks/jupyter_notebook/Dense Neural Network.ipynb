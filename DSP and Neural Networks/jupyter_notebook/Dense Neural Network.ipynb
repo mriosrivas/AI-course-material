{
 "cells": [
  {
   "cell_type": "code",
   "execution_count": 1,
   "id": "1b08e52d",
   "metadata": {},
   "outputs": [],
   "source": [
    "import numpy as np\n",
    "import pandas as pd\n",
    "import matplotlib.pyplot as plt\n",
    "import pickle\n",
    "\n",
    "import keras\n",
    "from sklearn.preprocessing import OneHotEncoder\n",
    "\n",
    "# Checkpoint\n",
    "from tensorflow.keras.callbacks import ModelCheckpoint"
   ]
  },
  {
   "cell_type": "code",
   "execution_count": 2,
   "id": "05dc3070",
   "metadata": {},
   "outputs": [],
   "source": [
    "# Cleaning training data\n",
    "df_train = pd.read_csv('../data/training_data.csv')\n",
    "df_train = df_train.drop(['Unnamed: 0'], axis=1)\n",
    "df_train.columns = df_train.columns.str.lower().str.replace(' ', '_')\n",
    "\n",
    "X_train = df_train.iloc[:, 0:-1].values\n",
    "Y_train = df_train.iloc[:, -1].values.reshape(-1,1)\n",
    "enc = OneHotEncoder(handle_unknown='ignore')\n",
    "Y_train = enc.fit_transform(Y_train).toarray()\n",
    "\n",
    "# Cleaning test data\n",
    "df_test = pd.read_csv('../data/testing_data.csv')\n",
    "df_test = df_test.drop(['Unnamed: 0'], axis=1)\n",
    "df_test.columns = df_test.columns.str.lower().str.replace(' ', '_')\n",
    "\n",
    "X_test = df_test.iloc[:, 0:-1].values\n",
    "Y_test = df_test.iloc[:, -1].values.reshape(-1,1)\n",
    "Y_test = enc.transform(Y_test).toarray()"
   ]
  },
  {
   "cell_type": "code",
   "execution_count": 3,
   "id": "feeaa704",
   "metadata": {},
   "outputs": [
    {
     "data": {
      "text/plain": [
       "array([[0., 0., 1., 0.],\n",
       "       [0., 1., 0., 0.],\n",
       "       [0., 1., 0., 0.],\n",
       "       [1., 0., 0., 0.],\n",
       "       [0., 0., 0., 1.],\n",
       "       [0., 1., 0., 0.],\n",
       "       [0., 0., 1., 0.],\n",
       "       [0., 0., 1., 0.],\n",
       "       [1., 0., 0., 0.],\n",
       "       [0., 0., 0., 1.],\n",
       "       [0., 0., 0., 1.],\n",
       "       [1., 0., 0., 0.],\n",
       "       [0., 1., 0., 0.],\n",
       "       [0., 0., 1., 0.],\n",
       "       [0., 0., 0., 1.],\n",
       "       [1., 0., 0., 0.]])"
      ]
     },
     "execution_count": 3,
     "metadata": {},
     "output_type": "execute_result"
    }
   ],
   "source": [
    "Y_test"
   ]
  },
  {
   "cell_type": "code",
   "execution_count": 4,
   "id": "400b28a2",
   "metadata": {},
   "outputs": [
    {
     "name": "stdout",
     "output_type": "stream",
     "text": [
      "(64, 33) (64, 4)\n",
      "(16, 33) (16, 4)\n"
     ]
    }
   ],
   "source": [
    "print(X_train.shape, Y_train.shape)\n",
    "print(X_test.shape, Y_test.shape)"
   ]
  },
  {
   "cell_type": "code",
   "execution_count": 5,
   "id": "ad342a2b",
   "metadata": {},
   "outputs": [
    {
     "name": "stderr",
     "output_type": "stream",
     "text": [
      "2022-10-14 11:42:19.856022: I tensorflow/stream_executor/cuda/cuda_gpu_executor.cc:975] successful NUMA node read from SysFS had negative value (-1), but there must be at least one NUMA node, so returning NUMA node zero\n",
      "2022-10-14 11:42:19.863724: I tensorflow/stream_executor/cuda/cuda_gpu_executor.cc:975] successful NUMA node read from SysFS had negative value (-1), but there must be at least one NUMA node, so returning NUMA node zero\n",
      "2022-10-14 11:42:19.864125: I tensorflow/stream_executor/cuda/cuda_gpu_executor.cc:975] successful NUMA node read from SysFS had negative value (-1), but there must be at least one NUMA node, so returning NUMA node zero\n",
      "2022-10-14 11:42:19.864932: I tensorflow/core/platform/cpu_feature_guard.cc:193] This TensorFlow binary is optimized with oneAPI Deep Neural Network Library (oneDNN) to use the following CPU instructions in performance-critical operations:  AVX2 FMA\n",
      "To enable them in other operations, rebuild TensorFlow with the appropriate compiler flags.\n",
      "2022-10-14 11:42:19.865474: I tensorflow/stream_executor/cuda/cuda_gpu_executor.cc:975] successful NUMA node read from SysFS had negative value (-1), but there must be at least one NUMA node, so returning NUMA node zero\n",
      "2022-10-14 11:42:19.865838: I tensorflow/stream_executor/cuda/cuda_gpu_executor.cc:975] successful NUMA node read from SysFS had negative value (-1), but there must be at least one NUMA node, so returning NUMA node zero\n",
      "2022-10-14 11:42:19.866158: I tensorflow/stream_executor/cuda/cuda_gpu_executor.cc:975] successful NUMA node read from SysFS had negative value (-1), but there must be at least one NUMA node, so returning NUMA node zero\n",
      "2022-10-14 11:42:20.344743: I tensorflow/stream_executor/cuda/cuda_gpu_executor.cc:975] successful NUMA node read from SysFS had negative value (-1), but there must be at least one NUMA node, so returning NUMA node zero\n",
      "2022-10-14 11:42:20.345149: I tensorflow/stream_executor/cuda/cuda_gpu_executor.cc:975] successful NUMA node read from SysFS had negative value (-1), but there must be at least one NUMA node, so returning NUMA node zero\n",
      "2022-10-14 11:42:20.345641: I tensorflow/stream_executor/cuda/cuda_gpu_executor.cc:975] successful NUMA node read from SysFS had negative value (-1), but there must be at least one NUMA node, so returning NUMA node zero\n",
      "2022-10-14 11:42:20.346095: I tensorflow/core/common_runtime/gpu/gpu_device.cc:1532] Created device /job:localhost/replica:0/task:0/device:GPU:0 with 6873 MB memory:  -> device: 0, name: NVIDIA GeForce GTX 1070, pci bus id: 0000:01:00.0, compute capability: 6.1\n"
     ]
    }
   ],
   "source": [
    "# Neural Network\n",
    "inputs = keras.Input(shape=(33))\n",
    "dense_1 = keras.layers.Dense(33, activation='relu')(inputs)\n",
    "dense_2 = keras.layers.Dense(20, activation='relu')(dense_1)\n",
    "dense_3 = keras.layers.Dense(10, activation='relu')(dense_2)\n",
    "outputs = keras.layers.Dense(4, activation='softmax')(dense_3)"
   ]
  },
  {
   "cell_type": "code",
   "execution_count": 6,
   "id": "ea428c7f",
   "metadata": {},
   "outputs": [],
   "source": [
    "model = keras.Model(inputs=inputs, outputs=outputs, name=\"dense_model\")"
   ]
  },
  {
   "cell_type": "code",
   "execution_count": 7,
   "id": "b706079d",
   "metadata": {},
   "outputs": [
    {
     "name": "stdout",
     "output_type": "stream",
     "text": [
      "Model: \"dense_model\"\n",
      "_________________________________________________________________\n",
      " Layer (type)                Output Shape              Param #   \n",
      "=================================================================\n",
      " input_1 (InputLayer)        [(None, 33)]              0         \n",
      "                                                                 \n",
      " dense (Dense)               (None, 33)                1122      \n",
      "                                                                 \n",
      " dense_1 (Dense)             (None, 20)                680       \n",
      "                                                                 \n",
      " dense_2 (Dense)             (None, 10)                210       \n",
      "                                                                 \n",
      " dense_3 (Dense)             (None, 4)                 44        \n",
      "                                                                 \n",
      "=================================================================\n",
      "Total params: 2,056\n",
      "Trainable params: 2,056\n",
      "Non-trainable params: 0\n",
      "_________________________________________________________________\n"
     ]
    }
   ],
   "source": [
    "model.summary()"
   ]
  },
  {
   "cell_type": "code",
   "execution_count": 8,
   "id": "71aab101",
   "metadata": {},
   "outputs": [],
   "source": [
    "# Model Checkpoint\n",
    "checkpoint = ModelCheckpoint(\n",
    "    'checkpoints/dense_{epoch:02d}_{val_accuracy:.3f}.h5',\n",
    "    save_best_only=True, \n",
    "    monitor='val_accuracy', \n",
    "    mode='max')"
   ]
  },
  {
   "cell_type": "code",
   "execution_count": 9,
   "id": "81490d72",
   "metadata": {},
   "outputs": [],
   "source": [
    "# Loss\n",
    "loss = keras.losses.CategoricalCrossentropy(from_logits=True)\n",
    "\n",
    "# Optimizer\n",
    "optimizer = keras.optimizers.Adam(learning_rate=0.001)"
   ]
  },
  {
   "cell_type": "code",
   "execution_count": 10,
   "id": "4be2a67f",
   "metadata": {},
   "outputs": [],
   "source": [
    "# Compile the model\n",
    "model.compile(loss=loss, optimizer=optimizer, metrics=['accuracy'])"
   ]
  },
  {
   "cell_type": "code",
   "execution_count": 11,
   "id": "ea5b2e7f",
   "metadata": {},
   "outputs": [
    {
     "name": "stdout",
     "output_type": "stream",
     "text": [
      "Epoch 1/16\n"
     ]
    },
    {
     "name": "stderr",
     "output_type": "stream",
     "text": [
      "/home/manuel/anaconda3/envs/ml-zoomcamp/lib/python3.8/site-packages/tensorflow/python/util/dispatch.py:1082: UserWarning: \"`categorical_crossentropy` received `from_logits=True`, but the `output` argument was produced by a sigmoid or softmax activation and thus does not represent logits. Was this intended?\"\n",
      "  return dispatch_target(*args, **kwargs)\n"
     ]
    },
    {
     "name": "stdout",
     "output_type": "stream",
     "text": [
      "16/16 [==============================] - 1s 14ms/step - loss: 1.2913 - accuracy: 0.2500 - val_loss: 1.2444 - val_accuracy: 0.3750\n",
      "Epoch 2/16\n",
      "16/16 [==============================] - 0s 3ms/step - loss: 1.1924 - accuracy: 0.3750 - val_loss: 1.1660 - val_accuracy: 0.3750\n",
      "Epoch 3/16\n",
      "16/16 [==============================] - 0s 4ms/step - loss: 1.1029 - accuracy: 0.6094 - val_loss: 1.0798 - val_accuracy: 0.4375\n",
      "Epoch 4/16\n",
      "16/16 [==============================] - 0s 5ms/step - loss: 1.0056 - accuracy: 0.6406 - val_loss: 0.9842 - val_accuracy: 0.6250\n",
      "Epoch 5/16\n",
      "16/16 [==============================] - 0s 5ms/step - loss: 0.9076 - accuracy: 0.6719 - val_loss: 0.8949 - val_accuracy: 0.6875\n",
      "Epoch 6/16\n",
      "16/16 [==============================] - 0s 4ms/step - loss: 0.7961 - accuracy: 0.6875 - val_loss: 0.7760 - val_accuracy: 0.6875\n",
      "Epoch 7/16\n",
      "16/16 [==============================] - 0s 3ms/step - loss: 0.6757 - accuracy: 0.7344 - val_loss: 0.6659 - val_accuracy: 0.6875\n",
      "Epoch 8/16\n",
      "16/16 [==============================] - 0s 3ms/step - loss: 0.5728 - accuracy: 0.7500 - val_loss: 0.5855 - val_accuracy: 0.6250\n",
      "Epoch 9/16\n",
      "16/16 [==============================] - 0s 3ms/step - loss: 0.4885 - accuracy: 0.7500 - val_loss: 0.5214 - val_accuracy: 0.6875\n",
      "Epoch 10/16\n",
      "16/16 [==============================] - 0s 3ms/step - loss: 0.4274 - accuracy: 0.7500 - val_loss: 0.4752 - val_accuracy: 0.6875\n",
      "Epoch 11/16\n",
      "16/16 [==============================] - 0s 4ms/step - loss: 0.3832 - accuracy: 0.8281 - val_loss: 0.4393 - val_accuracy: 0.9375\n",
      "Epoch 12/16\n",
      "16/16 [==============================] - 0s 4ms/step - loss: 0.3466 - accuracy: 1.0000 - val_loss: 0.4015 - val_accuracy: 0.9375\n",
      "Epoch 13/16\n",
      "16/16 [==============================] - 0s 3ms/step - loss: 0.3180 - accuracy: 1.0000 - val_loss: 0.3805 - val_accuracy: 0.9375\n",
      "Epoch 14/16\n",
      "16/16 [==============================] - 0s 3ms/step - loss: 0.2933 - accuracy: 1.0000 - val_loss: 0.3554 - val_accuracy: 0.9375\n",
      "Epoch 15/16\n",
      "16/16 [==============================] - 0s 3ms/step - loss: 0.2710 - accuracy: 1.0000 - val_loss: 0.3323 - val_accuracy: 0.9375\n",
      "Epoch 16/16\n",
      "16/16 [==============================] - 0s 3ms/step - loss: 0.2490 - accuracy: 1.0000 - val_loss: 0.3169 - val_accuracy: 0.9375\n"
     ]
    }
   ],
   "source": [
    "# Train model\n",
    "history = model.fit(X_train, Y_train, validation_data=(X_test, Y_test), \n",
    "                    batch_size=4, epochs=16, callbacks=[checkpoint])"
   ]
  },
  {
   "cell_type": "code",
   "execution_count": 12,
   "id": "af36b07d",
   "metadata": {},
   "outputs": [
    {
     "data": {
      "image/png": "[encoded data removed]",
      "text/plain": [
       "<Figure size 864x360 with 2 Axes>"
      ]
     },
     "metadata": {
      "needs_background": "light"
     },
     "output_type": "display_data"
    }
   ],
   "source": [
    "# Results\n",
    "plt.rcParams['figure.figsize'] =(12,5)\n",
    "\n",
    "plt.subplot(1,2,1)\n",
    "plt.title('Loss vs. Epoch')\n",
    "plt.plot(history.history['loss'])\n",
    "plt.xlabel('epoch')\n",
    "plt.ylabel('loss')\n",
    "plt.grid('on')\n",
    "\n",
    "plt.subplot(1,2,2)\n",
    "plt.title('Accuracy vs. Epoch')\n",
    "plt.plot(history.history['accuracy'])\n",
    "plt.xlabel('epoch')\n",
    "plt.ylabel('accuracy')\n",
    "plt.grid('on')"
   ]
  },
  {
   "cell_type": "code",
   "execution_count": 13,
   "id": "86a2a124",
   "metadata": {},
   "outputs": [
    {
     "name": "stdout",
     "output_type": "stream",
     "text": [
      "1/1 [==============================] - 0s 108ms/step - loss: 0.3169 - accuracy: 0.9375\n",
      "Test loss: 0.31688424944877625\n",
      "Test accuracy: 0.9375\n"
     ]
    }
   ],
   "source": [
    "test_scores = model.evaluate(X_test, Y_test)\n",
    "print(f'Test loss: {test_scores[0]}')\n",
    "print(f'Test accuracy: {test_scores[1]}')"
   ]
  },
  {
   "cell_type": "code",
   "execution_count": 15,
   "id": "d6227fd9",
   "metadata": {},
   "outputs": [],
   "source": [
    "# Pickle the encoder\n",
    "with open('checkpoints/encoder.pkl', 'wb') as file:\n",
    "    pickle.dump(enc, file)"
   ]
  },
  {
   "cell_type": "code",
   "execution_count": null,
   "id": "88ba184e",
   "metadata": {},
   "outputs": [],
   "source": []
  }
 ],
 "metadata": {
  "kernelspec": {
   "display_name": "Python 3 (ipykernel)",
   "language": "python",
   "name": "python3"
  },
  "language_info": {
   "codemirror_mode": {
    "name": "ipython",
    "version": 3
   },
   "file_extension": ".py",
   "mimetype": "text/x-python",
   "name": "python",
   "nbconvert_exporter": "python",
   "pygments_lexer": "ipython3",
   "version": "3.8.12"
  }
 },
 "nbformat": 4,
 "nbformat_minor": 5
}
