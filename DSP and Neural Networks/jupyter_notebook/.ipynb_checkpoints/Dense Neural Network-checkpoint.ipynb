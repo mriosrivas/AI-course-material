{
 "cells": [
  {
   "cell_type": "code",
   "execution_count": 1,
   "id": "1b08e52d",
   "metadata": {},
   "outputs": [],
   "source": [
    "import numpy as np\n",
    "import pandas as pd\n",
    "import matplotlib.pyplot as plt\n",
    "\n",
    "import keras\n",
    "from sklearn.preprocessing import OneHotEncoder"
   ]
  },
  {
   "cell_type": "code",
   "execution_count": 2,
   "id": "05dc3070",
   "metadata": {},
   "outputs": [],
   "source": [
    "# Cleaning training data\n",
    "df_train = pd.read_csv('../data/training_data.csv')\n",
    "df_train = df_train.drop(['Unnamed: 0'], axis=1)\n",
    "df_train.columns = df_train.columns.str.lower().str.replace(' ', '_')\n",
    "\n",
    "X_train = df_train.iloc[:, 0:-1].values\n",
    "Y_train = df_train.iloc[:, -1].values.reshape(-1,1)\n",
    "enc = OneHotEncoder(handle_unknown='ignore')\n",
    "Y_train = enc.fit_transform(Y_train).toarray()\n",
    "\n",
    "# Cleaning test data\n",
    "df_test = pd.read_csv('../data/testing_data.csv')\n",
    "df_test = df_test.drop(['Unnamed: 0'], axis=1)\n",
    "df_test.columns = df_test.columns.str.lower().str.replace(' ', '_')\n",
    "\n",
    "X_test = df_test.iloc[:, 0:-1].values\n",
    "Y_test = df_test.iloc[:, -1].values.reshape(-1,1)\n",
    "Y_test = enc.transform(Y_test).toarray()"
   ]
  },
  {
   "cell_type": "code",
   "execution_count": 3,
   "id": "feeaa704",
   "metadata": {},
   "outputs": [
    {
     "data": {
      "text/plain": [
       "array([[0., 0., 1., 0.],\n",
       "       [0., 1., 0., 0.],\n",
       "       [0., 1., 0., 0.],\n",
       "       [1., 0., 0., 0.],\n",
       "       [0., 0., 0., 1.],\n",
       "       [0., 1., 0., 0.],\n",
       "       [0., 0., 1., 0.],\n",
       "       [0., 0., 1., 0.],\n",
       "       [1., 0., 0., 0.],\n",
       "       [0., 0., 0., 1.],\n",
       "       [0., 0., 0., 1.],\n",
       "       [1., 0., 0., 0.],\n",
       "       [0., 1., 0., 0.],\n",
       "       [0., 0., 1., 0.],\n",
       "       [0., 0., 0., 1.],\n",
       "       [1., 0., 0., 0.]])"
      ]
     },
     "execution_count": 3,
     "metadata": {},
     "output_type": "execute_result"
    }
   ],
   "source": [
    "Y_test"
   ]
  },
  {
   "cell_type": "code",
   "execution_count": 4,
   "id": "400b28a2",
   "metadata": {},
   "outputs": [
    {
     "name": "stdout",
     "output_type": "stream",
     "text": [
      "(64, 33) (64, 4)\n",
      "(16, 33) (16, 4)\n"
     ]
    }
   ],
   "source": [
    "print(X_train.shape, Y_train.shape)\n",
    "print(X_test.shape, Y_test.shape)"
   ]
  },
  {
   "cell_type": "code",
   "execution_count": 5,
   "id": "ad342a2b",
   "metadata": {},
   "outputs": [
    {
     "name": "stderr",
     "output_type": "stream",
     "text": [
      "2022-10-14 10:31:40.359918: I tensorflow/stream_executor/cuda/cuda_gpu_executor.cc:975] successful NUMA node read from SysFS had negative value (-1), but there must be at least one NUMA node, so returning NUMA node zero\n",
      "2022-10-14 10:31:40.396753: I tensorflow/stream_executor/cuda/cuda_gpu_executor.cc:975] successful NUMA node read from SysFS had negative value (-1), but there must be at least one NUMA node, so returning NUMA node zero\n",
      "2022-10-14 10:31:40.397116: I tensorflow/stream_executor/cuda/cuda_gpu_executor.cc:975] successful NUMA node read from SysFS had negative value (-1), but there must be at least one NUMA node, so returning NUMA node zero\n",
      "2022-10-14 10:31:40.398011: I tensorflow/core/platform/cpu_feature_guard.cc:193] This TensorFlow binary is optimized with oneAPI Deep Neural Network Library (oneDNN) to use the following CPU instructions in performance-critical operations:  AVX2 FMA\n",
      "To enable them in other operations, rebuild TensorFlow with the appropriate compiler flags.\n",
      "2022-10-14 10:31:40.399007: I tensorflow/stream_executor/cuda/cuda_gpu_executor.cc:975] successful NUMA node read from SysFS had negative value (-1), but there must be at least one NUMA node, so returning NUMA node zero\n",
      "2022-10-14 10:31:40.399375: I tensorflow/stream_executor/cuda/cuda_gpu_executor.cc:975] successful NUMA node read from SysFS had negative value (-1), but there must be at least one NUMA node, so returning NUMA node zero\n",
      "2022-10-14 10:31:40.399704: I tensorflow/stream_executor/cuda/cuda_gpu_executor.cc:975] successful NUMA node read from SysFS had negative value (-1), but there must be at least one NUMA node, so returning NUMA node zero\n",
      "2022-10-14 10:31:41.108025: I tensorflow/stream_executor/cuda/cuda_gpu_executor.cc:975] successful NUMA node read from SysFS had negative value (-1), but there must be at least one NUMA node, so returning NUMA node zero\n",
      "2022-10-14 10:31:41.108444: I tensorflow/stream_executor/cuda/cuda_gpu_executor.cc:975] successful NUMA node read from SysFS had negative value (-1), but there must be at least one NUMA node, so returning NUMA node zero\n",
      "2022-10-14 10:31:41.108753: I tensorflow/stream_executor/cuda/cuda_gpu_executor.cc:975] successful NUMA node read from SysFS had negative value (-1), but there must be at least one NUMA node, so returning NUMA node zero\n",
      "2022-10-14 10:31:41.109042: I tensorflow/core/common_runtime/gpu/gpu_device.cc:1532] Created device /job:localhost/replica:0/task:0/device:GPU:0 with 6838 MB memory:  -> device: 0, name: NVIDIA GeForce GTX 1070, pci bus id: 0000:01:00.0, compute capability: 6.1\n"
     ]
    }
   ],
   "source": [
    "inputs = keras.Input(shape=(33))\n",
    "dense_1 = keras.layers.Dense(33, activation='relu')(inputs)\n",
    "dense_2 = keras.layers.Dense(20, activation='relu')(dense_1)\n",
    "dense_3 = keras.layers.Dense(10, activation='relu')(dense_2)\n",
    "outputs = keras.layers.Dense(4, activation='softmax')(dense_3)"
   ]
  },
  {
   "cell_type": "code",
   "execution_count": 6,
   "id": "250ccc5e",
   "metadata": {},
   "outputs": [],
   "source": [
    "model = keras.Model(inputs=inputs, outputs=outputs, name=\"dense_model\")"
   ]
  },
  {
   "cell_type": "code",
   "execution_count": 7,
   "id": "7bd6a60b",
   "metadata": {},
   "outputs": [
    {
     "name": "stdout",
     "output_type": "stream",
     "text": [
      "Model: \"dense_model\"\n",
      "_________________________________________________________________\n",
      " Layer (type)                Output Shape              Param #   \n",
      "=================================================================\n",
      " input_1 (InputLayer)        [(None, 33)]              0         \n",
      "                                                                 \n",
      " dense (Dense)               (None, 33)                1122      \n",
      "                                                                 \n",
      " dense_1 (Dense)             (None, 20)                680       \n",
      "                                                                 \n",
      " dense_2 (Dense)             (None, 10)                210       \n",
      "                                                                 \n",
      " dense_3 (Dense)             (None, 4)                 44        \n",
      "                                                                 \n",
      "=================================================================\n",
      "Total params: 2,056\n",
      "Trainable params: 2,056\n",
      "Non-trainable params: 0\n",
      "_________________________________________________________________\n"
     ]
    }
   ],
   "source": [
    "model.summary()"
   ]
  },
  {
   "cell_type": "code",
   "execution_count": 8,
   "id": "81490d72",
   "metadata": {},
   "outputs": [],
   "source": [
    "# Loss\n",
    "loss = keras.losses.CategoricalCrossentropy(from_logits=True)\n",
    "\n",
    "# Optimizer\n",
    "optimizer = keras.optimizers.Adam(learning_rate=0.001)"
   ]
  },
  {
   "cell_type": "code",
   "execution_count": 9,
   "id": "4be2a67f",
   "metadata": {},
   "outputs": [],
   "source": [
    "model.compile(loss=loss, optimizer=optimizer, metrics=['accuracy'])"
   ]
  },
  {
   "cell_type": "code",
   "execution_count": 10,
   "id": "ea5b2e7f",
   "metadata": {},
   "outputs": [
    {
     "name": "stdout",
     "output_type": "stream",
     "text": [
      "Epoch 1/16\n"
     ]
    },
    {
     "name": "stderr",
     "output_type": "stream",
     "text": [
      "/home/manuel/anaconda3/envs/ml-zoomcamp/lib/python3.8/site-packages/tensorflow/python/util/dispatch.py:1082: UserWarning: \"`categorical_crossentropy` received `from_logits=True`, but the `output` argument was produced by a sigmoid or softmax activation and thus does not represent logits. Was this intended?\"\n",
      "  return dispatch_target(*args, **kwargs)\n"
     ]
    },
    {
     "name": "stdout",
     "output_type": "stream",
     "text": [
      "16/16 [==============================] - 1s 2ms/step - loss: 1.4617 - accuracy: 0.3281\n",
      "Epoch 2/16\n",
      "16/16 [==============================] - 0s 2ms/step - loss: 1.3113 - accuracy: 0.5156\n",
      "Epoch 3/16\n",
      "16/16 [==============================] - 0s 2ms/step - loss: 1.1613 - accuracy: 0.6094\n",
      "Epoch 4/16\n",
      "16/16 [==============================] - 0s 2ms/step - loss: 1.0336 - accuracy: 0.6406\n",
      "Epoch 5/16\n",
      "16/16 [==============================] - 0s 2ms/step - loss: 0.9369 - accuracy: 0.6250\n",
      "Epoch 6/16\n",
      "16/16 [==============================] - 0s 2ms/step - loss: 0.8419 - accuracy: 0.7031\n",
      "Epoch 7/16\n",
      "16/16 [==============================] - 0s 2ms/step - loss: 0.7476 - accuracy: 0.7656\n",
      "Epoch 8/16\n",
      "16/16 [==============================] - 0s 2ms/step - loss: 0.6650 - accuracy: 0.7656\n",
      "Epoch 9/16\n",
      "16/16 [==============================] - 0s 2ms/step - loss: 0.5805 - accuracy: 0.8750\n",
      "Epoch 10/16\n",
      "16/16 [==============================] - 0s 2ms/step - loss: 0.4957 - accuracy: 0.9062\n",
      "Epoch 11/16\n",
      "16/16 [==============================] - 0s 2ms/step - loss: 0.4245 - accuracy: 0.9375\n",
      "Epoch 12/16\n",
      "16/16 [==============================] - 0s 2ms/step - loss: 0.3331 - accuracy: 0.9375\n",
      "Epoch 13/16\n",
      "16/16 [==============================] - 0s 2ms/step - loss: 0.2651 - accuracy: 0.9844\n",
      "Epoch 14/16\n",
      "16/16 [==============================] - 0s 2ms/step - loss: 0.2154 - accuracy: 0.9844\n",
      "Epoch 15/16\n",
      "16/16 [==============================] - 0s 2ms/step - loss: 0.1692 - accuracy: 0.9844\n",
      "Epoch 16/16\n",
      "16/16 [==============================] - 0s 2ms/step - loss: 0.1345 - accuracy: 1.0000\n"
     ]
    }
   ],
   "source": [
    "history = model.fit(X_train, Y_train, batch_size=4, epochs=16)"
   ]
  },
  {
   "cell_type": "code",
   "execution_count": 11,
   "id": "af36b07d",
   "metadata": {},
   "outputs": [
    {
     "data": {
      "image/png": "[encoded data removed]",
      "text/plain": [
       "<Figure size 864x360 with 2 Axes>"
      ]
     },
     "metadata": {
      "needs_background": "light"
     },
     "output_type": "display_data"
    }
   ],
   "source": [
    "plt.rcParams['figure.figsize'] =(12,5)\n",
    "\n",
    "plt.subplot(1,2,1)\n",
    "plt.title('Loss vs. Epoch')\n",
    "plt.plot(history.history['loss'])\n",
    "plt.xlabel('epoch')\n",
    "plt.ylabel('loss')\n",
    "plt.grid('on')\n",
    "\n",
    "plt.subplot(1,2,2)\n",
    "plt.title('Accuracy vs. Epoch')\n",
    "plt.plot(history.history['accuracy'])\n",
    "plt.xlabel('epoch')\n",
    "plt.ylabel('accuracy')\n",
    "plt.grid('on')"
   ]
  },
  {
   "cell_type": "code",
   "execution_count": 12,
   "id": "86a2a124",
   "metadata": {},
   "outputs": [
    {
     "name": "stdout",
     "output_type": "stream",
     "text": [
      "1/1 [==============================] - 0s 134ms/step - loss: 0.2105 - accuracy: 0.9375\n",
      "Test loss: 0.21050958335399628\n",
      "Test accuracy: 0.9375\n"
     ]
    }
   ],
   "source": [
    "test_scores = model.evaluate(X_test, Y_test)\n",
    "print(f'Test loss: {test_scores[0]}')\n",
    "print(f'Test accuracy: {test_scores[1]}')"
   ]
  }
 ],
 "metadata": {
  "kernelspec": {
   "display_name": "Python 3 (ipykernel)",
   "language": "python",
   "name": "python3"
  },
  "language_info": {
   "codemirror_mode": {
    "name": "ipython",
    "version": 3
   },
   "file_extension": ".py",
   "mimetype": "text/x-python",
   "name": "python",
   "nbconvert_exporter": "python",
   "pygments_lexer": "ipython3",
   "version": "3.8.12"
  }
 },
 "nbformat": 4,
 "nbformat_minor": 5
}
